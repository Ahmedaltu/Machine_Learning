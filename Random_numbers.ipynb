{
 "cells": [
  {
   "cell_type": "markdown",
   "metadata": {},
   "source": [
    "# Assignment 4 - Random numbers\n",
    "Probability and Statistics<br>\n",
    "Autumn 2021<br>\n",
    "G01, Ahmed Al-Tuwaijari<br>\n",
    "[CC BY-NC-SA](https://creativecommons.org/licenses/by-nc-sa/4.0/),\n",
    "[Sakari Lukkarinen](https://peoplefinder.metropolia.fi/en/profile/8719/staff/Sakari-Lukkarinen)<br>\n",
    "[Helsinki Metropolia University of Applied Sciences](https://www.metropolia.fi/en/)\n"
   ]
  },
  {
   "cell_type": "code",
   "execution_count": 2,
   "metadata": {},
   "outputs": [],
   "source": [
    "# Write your own library import commands here\n",
    "import numpy as np\n",
    "import pandas as pd\n",
    "import matplotlib.pyplot as plt\n",
    "from scipy.stats import norm"
   ]
  },
  {
   "cell_type": "markdown",
   "metadata": {},
   "source": [
    "## Problem 1\n",
    "\n",
    "In this problem we play with *normally distributed* random number with *given* mean ($\\mu$) and standard deviation ($\\sigma$) and compare that to the *theoretical probability density function* of normal distribution.\n",
    "\n",
    "Coding:\n",
    "- Create an array of 500 [normally distributed](https://en.wikipedia.org/wiki/Normal_distribution) random numbers having a *mean* of 10.0 and *standard deviation* of 2.50.\n",
    "- Calculate the descriptive statistics for the array.\n",
    "- Create a [density histogram](https://matplotlib.org/3.2.1/api/_as_gen/matplotlib.pyplot.hist.html) of the values. Pay special attention to the bins settings.\n",
    "- Draw [vertical lines](https://matplotlib.org/3.1.1/api/_as_gen/matplotlib.pyplot.axvline.html) to show the range for $ \\mu \\pm 1.0 \\cdot \\sigma$.\n",
    "- Overlay a theoretical [probability density function](https://docs.scipy.org/doc/scipy/reference/generated/scipy.stats.norm.html) over the *density* histogram.\n",
    "- Count how many of the random values are between 10.0 and 15.0.\n",
    "- Calculate what is the *theoretical* probability that the random variable is between 10.0 and 15.0.\n",
    "\n",
    "Questions:\n",
    "- How much do the *given* mean value (10.0) and the *calculated* mean value (from descriptive statistics) differ from each other? Explain why.\n",
    "- Discuss how well does the *probability density function* fit to the histogram of randomly generated data?\n",
    "- What was the *counted* probability that the random values is between 10.0 and 15.0? How much that differ from the *theoretical* probability? Discuss about the difference."
   ]
  },
  {
   "cell_type": "code",
   "execution_count": 9,
   "metadata": {},
   "outputs": [
    {
     "name": "stderr",
     "output_type": "stream",
     "text": [
      "/var/folders/pv/18phz5dd1vb5vh9cqn3fkbx40000gn/T/ipykernel_51749/480613818.py:14: UserWarning: color is redundantly defined by the 'color' keyword argument and the fmt string \"r-\" (-> color='r'). The keyword argument will take precedence.\n",
      "  ax.plot(x, rv1.pdf(x), 'r-', lw = 2, alpha=0.8, label = 'norm', color='black')\n"
     ]
    },
    {
     "data": {
      "image/png": "[encoded data removed]",
      "text/plain": [
       "<Figure size 432x288 with 1 Axes>"
      ]
     },
     "metadata": {
      "needs_background": "light"
     },
     "output_type": "display_data"
    },
    {
     "name": "stdout",
     "output_type": "stream",
     "text": [
      "Amount of values between 10 and 15 is:  222\n",
      "Probability of random value being between 10 and 15:  0.444\n"
     ]
    },
    {
     "data": {
      "text/html": [
       "<div>\n",
       "<style scoped>\n",
       "    .dataframe tbody tr th:only-of-type {\n",
       "        vertical-align: middle;\n",
       "    }\n",
       "\n",
       "    .dataframe tbody tr th {\n",
       "        vertical-align: top;\n",
       "    }\n",
       "\n",
       "    .dataframe thead th {\n",
       "        text-align: right;\n",
       "    }\n",
       "</style>\n",
       "<table border=\"1\" class=\"dataframe\">\n",
       "  <thead>\n",
       "    <tr style=\"text-align: right;\">\n",
       "      <th></th>\n",
       "      <th>0</th>\n",
       "    </tr>\n",
       "  </thead>\n",
       "  <tbody>\n",
       "    <tr>\n",
       "      <th>count</th>\n",
       "      <td>500.000000</td>\n",
       "    </tr>\n",
       "    <tr>\n",
       "      <th>mean</th>\n",
       "      <td>9.830321</td>\n",
       "    </tr>\n",
       "    <tr>\n",
       "      <th>std</th>\n",
       "      <td>2.507310</td>\n",
       "    </tr>\n",
       "    <tr>\n",
       "      <th>min</th>\n",
       "      <td>3.461789</td>\n",
       "    </tr>\n",
       "    <tr>\n",
       "      <th>25%</th>\n",
       "      <td>8.161782</td>\n",
       "    </tr>\n",
       "    <tr>\n",
       "      <th>50%</th>\n",
       "      <td>9.762490</td>\n",
       "    </tr>\n",
       "    <tr>\n",
       "      <th>75%</th>\n",
       "      <td>11.476371</td>\n",
       "    </tr>\n",
       "    <tr>\n",
       "      <th>max</th>\n",
       "      <td>19.439205</td>\n",
       "    </tr>\n",
       "  </tbody>\n",
       "</table>\n",
       "</div>"
      ],
      "text/plain": [
       "                0\n",
       "count  500.000000\n",
       "mean     9.830321\n",
       "std      2.507310\n",
       "min      3.461789\n",
       "25%      8.161782\n",
       "50%      9.762490\n",
       "75%     11.476371\n",
       "max     19.439205"
      ]
     },
     "execution_count": 9,
     "metadata": {},
     "output_type": "execute_result"
    }
   ],
   "source": [
    "# Your code\n",
    "mu = 10.0\n",
    "sigma = 2.5\n",
    "data = np.random.randn(500) * sigma + mu\n",
    "\n",
    "line1 = mu + 1.0 * sigma\n",
    "line2 = mu - 1.0 * sigma\n",
    "\n",
    "rv0 = norm()\n",
    "rv1=norm(loc = mu, scale = sigma)\n",
    "fig, ax = plt.subplots(1, 1)\n",
    "mean, var, skew, kurt = rv1.stats(moments='mvsk')\n",
    "x = np.linspace(rv1.ppf(0.01), rv1.ppf(0.99), 500)\n",
    "ax.plot(x, rv1.pdf(x), 'r-', lw = 2, alpha=0.8, label = 'norm', color='black')\n",
    "vals = norm.ppf([0.001, 0.5, 0.999])\n",
    "np.allclose([0.001, 0.5, 0.999], norm.cdf(vals))\n",
    "\n",
    "plt.hist(data, density = True, bins = 20)\n",
    "plt.axis([0,20,0,0.2])\n",
    "plt.suptitle('Density histogram')\n",
    "plt.xlabel('values')\n",
    "plt.ylabel('density')\n",
    "plt.axvline(x = line1, color= 'red', lw=4, alpha = 0.6)\n",
    "plt.axvline(x = line2, color= 'red', lw=4, alpha = 0.6)\n",
    "plt.show()\n",
    "\n",
    "\n",
    "between = ((10 <= data) & (data <= 15)).sum()\n",
    "print(\"Amount of values between 10 and 15 is: \", between)\n",
    "print(\"Probability of random value being between 10 and 15: \", between/500)\n",
    "\n",
    "dframe = pd.DataFrame(data)\n",
    "dframe.describe()"
   ]
  },
  {
   "cell_type": "markdown",
   "metadata": {},
   "source": [
    "**Answers:**\n",
    "\n",
    "a) Typically the difference is up to $\\pm$ 0.2. The answer as to why, probably lies within the randomness of how the numbers are generated. If you increase the sample sizefrom 500 though, the accuracy will drastically improve.\n",
    "\n",
    "b)They match very clearly although the generated numbers do tend to spike up or fall short of the probability density function at certain points. Again, if you were to increase the number of values to say 10000, and the bins to 35, we would a histogram almost perfectly fitting the function.\n",
    "\n",
    "c)The counted probability is is between 10.0 and 15.0 is 0.462. According to normal distribution formula. The resulut for f(10) and f(15) is 0.0128 and 1.773x10^-13, respectively(the difference is 0.0128). I can see the counted probability is bigger than theoretical probability is 0.4492. I think it has  a difference because we may use different conclusion forms or may use different methods for predicting the probability.\n"
   ]
  },
  {
   "cell_type": "markdown",
   "metadata": {
    "tags": []
   },
   "source": [
    "## Problem 2\n",
    "\n",
    "The aim of this problem is to learn to use [exponential distribution](https://docs.scipy.org/doc/scipy/reference/generated/scipy.stats.expon.html) from [scipy.stats](https://docs.scipy.org/doc/scipy/reference/stats.html) library. We use the values given in YouTube video [Example distribution - Example 1](https://www.youtube.com/watch?v=4PEX-SuftjQ).\n",
    "\n",
    "Coding:\n",
    "- Create an array `x2` of 2 000 [exponentially distributed](https://en.wikipedia.org/wiki/Exponential_distribution) random numbers having the parameter value $\\lambda$ given in the Youtube video. This array simulates the real data.\n",
    "   - Note: Read carefully the notes of `scipy.stats.expon` function and find out how to convert $\\lambda$ to *scale*.\n",
    "- Calculate the descriptive statistics for the simulated data.\n",
    "- Draw a histogram of the values. (Remember to tune the bin settings properly).\n",
    "- Draw also a [boxplot](https://en.wikipedia.org/wiki/Box_plot) of the values.\n",
    "- Using the *percent point function* (see scipy.stats.expon) find the probability $P(2 < x < 4)$. \n",
    "- Count the proportion of the values in the simulated data are between 2 and 4.\n",
    "\n",
    "Questions:\n",
    "- What are the values for the *time scale* and $\\lambda$ explained in the video?\n",
    "- What does the `x2` present?\n",
    "- What is the median value for this dataset (read from the statistics)? How much does it differ from the theoretical value (given in video)?\n",
    "- What is the [interquartile range](https://en.wikipedia.org/wiki/Interquartile_range) for this data?\n",
    "- How much do the theoretical probability $P(2 < x < 4)$ and the counted proportion values differ? Explain why.\n"
   ]
  },
  {
   "cell_type": "code",
   "execution_count": 3,
   "metadata": {
    "tags": []
   },
   "outputs": [
    {
     "name": "stdout",
     "output_type": "stream",
     "text": [
      "[3.18690191 2.93789941 4.40606381 ... 5.04056397 3.15409525 3.763155  ]\n"
     ]
    }
   ],
   "source": [
    "# Create an array x2 of 2 000 random numbers having the parameter value lamda given in the Youtube video. This array simulates the real data.\n",
    "# scale = 1/lamda, lamda = 1/2, size = 2000\n",
    "from scipy.stats import expon\n",
    "import matplotlib.pyplot as plt\n",
    "sigma = 2\n",
    "size = 2000\n",
    "mean = 1.3863\n",
    "x2 = expon.rvs(loc=mean, scale=sigma, size=size, random_state=None)\n",
    "print(x2)"
   ]
  },
  {
   "cell_type": "code",
   "execution_count": 4,
   "metadata": {},
   "outputs": [
    {
     "name": "stdout",
     "output_type": "stream",
     "text": [
      "Median: 0.6931471805599453\n",
      "Mean: 1.0\n",
      "Standard deviation: 1.0\n",
      "Interquartile range : [0.28768207 0.69314718 1.38629436]\n"
     ]
    }
   ],
   "source": [
    "# calculate the descriptive statistics\n",
    "value = expon()\n",
    "print(\"Median:\", value.median())\n",
    "print(\"Mean:\", value.mean())\n",
    "print(\"Standard deviation:\", value.std())\n",
    "print(\"Interquartile range :\", value.ppf([0.25, 0.50, 0.75]))"
   ]
  },
  {
   "cell_type": "code",
   "execution_count": 5,
   "metadata": {},
   "outputs": [
    {
     "data": {
      "text/plain": [
       "Text(0.5, 1.0, 'The graph of exponentially distributed random numbers')"
      ]
     },
     "execution_count": 5,
     "metadata": {},
     "output_type": "execute_result"
    },
    {
     "data": {
      "image/png": "[encoded data removed]",
      "text/plain": [
       "<Figure size 432x288 with 1 Axes>"
      ]
     },
     "metadata": {
      "needs_background": "light"
     },
     "output_type": "display_data"
    }
   ],
   "source": [
    "#Draw a histogram of the values\n",
    "plt.hist(x2, density=True , bins=30, edgecolor='black', rwidth=0.8)\n",
    "plt.ylabel('Probability')\n",
    "plt.xlabel('Data');\n",
    "plt.grid()\n",
    "plt.title('The graph of exponentially distributed random numbers')"
   ]
  },
  {
   "cell_type": "code",
   "execution_count": 6,
   "metadata": {},
   "outputs": [
    {
     "data": {
      "text/plain": [
       "{'whiskers': [<matplotlib.lines.Line2D at 0x7fd1be9b6a30>,\n",
       "  <matplotlib.lines.Line2D at 0x7fd1be9b6dc0>],\n",
       " 'caps': [<matplotlib.lines.Line2D at 0x7fd1be9c6190>,\n",
       "  <matplotlib.lines.Line2D at 0x7fd1be9c6520>],\n",
       " 'boxes': [<matplotlib.lines.Line2D at 0x7fd1be9b66a0>],\n",
       " 'medians': [<matplotlib.lines.Line2D at 0x7fd1be9c68b0>],\n",
       " 'fliers': [<matplotlib.lines.Line2D at 0x7fd1be9c6c40>],\n",
       " 'means': []}"
      ]
     },
     "execution_count": 6,
     "metadata": {},
     "output_type": "execute_result"
    },
    {
     "data": {
      "image/png": "[encoded data removed]",
      "text/plain": [
       "<Figure size 432x288 with 1 Axes>"
      ]
     },
     "metadata": {
      "needs_background": "light"
     },
     "output_type": "display_data"
    }
   ],
   "source": [
    "#Draw a boxplot data \n",
    "plt.boxplot(x2)"
   ]
  },
  {
   "cell_type": "code",
   "execution_count": 7,
   "metadata": {},
   "outputs": [
    {
     "name": "stdout",
     "output_type": "stream",
     "text": [
      "P(2 < x < 4) is 0.11701964434787848\n"
     ]
    }
   ],
   "source": [
    "#find the probability P(2 < x < 4)\n",
    "from scipy.stats import expon\n",
    "from matplotlib import pyplot\n",
    "# create distribution\n",
    "dist = expon()\n",
    "data = dist.cdf(4.0) - dist.cdf(2.0)\n",
    "print(\"P(2 < x < 4) is\", data)"
   ]
  },
  {
   "cell_type": "code",
   "execution_count": 8,
   "metadata": {},
   "outputs": [
    {
     "name": "stdout",
     "output_type": "stream",
     "text": [
      "Amount of the values between 2 and 4: 938\n",
      "Proportion of the values between 2 and 4: 0.469\n"
     ]
    }
   ],
   "source": [
    "#Count the proportion of the values in the simulated data are between 2 and 4.\n",
    "a = ((2 <= x2) & (x2 <= 4)).sum()\n",
    "print(\"Amount of the values between 2 and 4:\", a)\n",
    "b = a / 2000\n",
    "print(\"Proportion of the values between 2 and 4:\", b)"
   ]
  },
  {
   "cell_type": "markdown",
   "metadata": {},
   "source": [
    "**Answers:**\n",
    "\n",
    "a) The value time scale is minutes and lamda is customer per minute in the video\n",
    "\n",
    "b) x2 is just a variable name\n",
    "\n",
    "c) The mean for this dataset is about 1. The difference between dataset and video is 1.3863 - 1 = 0.3863\n",
    "\n",
    "d) The Interquartile range : [0.28768207 0.69314718 1.38629436]\n",
    "\n",
    "e)The difference between theoretical probability and counted proportion values is 0.4735 - 0.117 = 0.3565. It has the diffence because probability when talking about the chances of some event happening in the future and proportion when describing some events actually happened in the past."
   ]
  },
  {
   "cell_type": "markdown",
   "metadata": {
    "tags": []
   },
   "source": [
    "## Problem 3\n",
    "\n",
    "In this problem we study how the accelerometer sensor measurements are distributed. Attached is an example data recorded with [Physics Toolbox Accelerometer](https://play.google.com/store/apps/details?id=com.chrystianvieyra.android.physicstoolboxaccelerometer) application that is freely available in Google Play. Make your own recording using this application:\n",
    "- Install the application to your mobile phone.\n",
    "- Open the application.\n",
    "- Place your mobile phone on the flat surface (for example on the table).\n",
    "- Click the (+) button to start recording.\n",
    "- Record at least 30 seconds of data.\n",
    "- Save the file and send it by email to yourself.\n",
    "\n",
    "Coding:\n",
    "- Open the file using Pandas read_csv function.\n",
    "   - You might need to define `sep` and `decimal` parameters for read_csv. See the documentation for details.\n",
    "- Create separate graphical plots of the accelerometer data (gFx, gFy, ...). Place the time on x-axis.\n",
    "- Calculate the descriptive statistics for the accelerometer data.\n",
    "- Create histograms and annotate the graphics with vertical lines at $\\mu \\pm \\sigma$.\n",
    "- Select randomly one row from the data and print out the values.\n",
    "\n",
    "Questions:\n",
    "- What are the mean values for gFx, gFy, and gFz? How can you predict the orientation of your mobile phone from these values?\n",
    "- Compare the standard deviations for gFx, gFy, and gFz. How much do they differ? Explain the similarities or diffences.\n",
    "- How does the histograms of the acceleration data look like? What probability distribution could fit to this data?\n",
    "- Study the randomly selected row from the data and compare it to the statistics. If you would get only one sample (like this), how confident you would be about the readings? Explain why.\n",
    "\n"
   ]
  },
  {
   "cell_type": "code",
   "execution_count": 9,
   "metadata": {},
   "outputs": [
    {
     "data": {
      "text/html": [
       "<div>\n",
       "<style scoped>\n",
       "    .dataframe tbody tr th:only-of-type {\n",
       "        vertical-align: middle;\n",
       "    }\n",
       "\n",
       "    .dataframe tbody tr th {\n",
       "        vertical-align: top;\n",
       "    }\n",
       "\n",
       "    .dataframe thead th {\n",
       "        text-align: right;\n",
       "    }\n",
       "</style>\n",
       "<table border=\"1\" class=\"dataframe\">\n",
       "  <thead>\n",
       "    <tr style=\"text-align: right;\">\n",
       "      <th></th>\n",
       "      <th>time</th>\n",
       "      <th>gFx</th>\n",
       "      <th>gFy</th>\n",
       "      <th>gFz</th>\n",
       "      <th>TgF</th>\n",
       "    </tr>\n",
       "  </thead>\n",
       "  <tbody>\n",
       "    <tr>\n",
       "      <th>0</th>\n",
       "      <td>0.006520</td>\n",
       "      <td>0.8431</td>\n",
       "      <td>0.0168</td>\n",
       "      <td>0.5685</td>\n",
       "      <td>1.017</td>\n",
       "    </tr>\n",
       "    <tr>\n",
       "      <th>1</th>\n",
       "      <td>0.007143</td>\n",
       "      <td>0.8550</td>\n",
       "      <td>0.0181</td>\n",
       "      <td>0.5633</td>\n",
       "      <td>1.024</td>\n",
       "    </tr>\n",
       "    <tr>\n",
       "      <th>2</th>\n",
       "      <td>0.007573</td>\n",
       "      <td>0.8416</td>\n",
       "      <td>0.0161</td>\n",
       "      <td>0.5674</td>\n",
       "      <td>1.015</td>\n",
       "    </tr>\n",
       "    <tr>\n",
       "      <th>3</th>\n",
       "      <td>0.007954</td>\n",
       "      <td>0.8578</td>\n",
       "      <td>0.0181</td>\n",
       "      <td>0.5689</td>\n",
       "      <td>1.029</td>\n",
       "    </tr>\n",
       "    <tr>\n",
       "      <th>4</th>\n",
       "      <td>0.008318</td>\n",
       "      <td>0.8404</td>\n",
       "      <td>0.0195</td>\n",
       "      <td>0.5706</td>\n",
       "      <td>1.016</td>\n",
       "    </tr>\n",
       "  </tbody>\n",
       "</table>\n",
       "</div>"
      ],
      "text/plain": [
       "       time     gFx     gFy     gFz    TgF\n",
       "0  0.006520  0.8431  0.0168  0.5685  1.017\n",
       "1  0.007143  0.8550  0.0181  0.5633  1.024\n",
       "2  0.007573  0.8416  0.0161  0.5674  1.015\n",
       "3  0.007954  0.8578  0.0181  0.5689  1.029\n",
       "4  0.008318  0.8404  0.0195  0.5706  1.016"
      ]
     },
     "execution_count": 9,
     "metadata": {},
     "output_type": "execute_result"
    }
   ],
   "source": [
    "# Open the file\n",
    "# define: decimal = ',' and sep = ';'\n",
    "import pandas\n",
    "file = pandas.read_csv('Android_data.csv')\n",
    "file.head()"
   ]
  },
  {
   "cell_type": "code",
   "execution_count": 10,
   "metadata": {},
   "outputs": [
    {
     "data": {
      "image/png": "[encoded data removed]",
      "text/plain": [
       "<Figure size 432x288 with 1 Axes>"
      ]
     },
     "metadata": {
      "needs_background": "light"
     },
     "output_type": "display_data"
    },
    {
     "data": {
      "image/png": "[encoded data removed]",
      "text/plain": [
       "<Figure size 432x288 with 1 Axes>"
      ]
     },
     "metadata": {
      "needs_background": "light"
     },
     "output_type": "display_data"
    },
    {
     "data": {
      "image/png": "[encoded data removed]",
      "text/plain": [
       "<Figure size 432x288 with 1 Axes>"
      ]
     },
     "metadata": {
      "needs_background": "light"
     },
     "output_type": "display_data"
    }
   ],
   "source": [
    "#create a graph\n",
    "file.plot('time','gFx')\n",
    "file.plot('time','gFy')\n",
    "file.plot('time','gFz')\n",
    "plt.show()"
   ]
  },
  {
   "cell_type": "code",
   "execution_count": 11,
   "metadata": {},
   "outputs": [
    {
     "data": {
      "text/html": [
       "<div>\n",
       "<style scoped>\n",
       "    .dataframe tbody tr th:only-of-type {\n",
       "        vertical-align: middle;\n",
       "    }\n",
       "\n",
       "    .dataframe tbody tr th {\n",
       "        vertical-align: top;\n",
       "    }\n",
       "\n",
       "    .dataframe thead th {\n",
       "        text-align: right;\n",
       "    }\n",
       "</style>\n",
       "<table border=\"1\" class=\"dataframe\">\n",
       "  <thead>\n",
       "    <tr style=\"text-align: right;\">\n",
       "      <th></th>\n",
       "      <th>time</th>\n",
       "      <th>gFx</th>\n",
       "      <th>gFy</th>\n",
       "      <th>gFz</th>\n",
       "      <th>TgF</th>\n",
       "    </tr>\n",
       "  </thead>\n",
       "  <tbody>\n",
       "    <tr>\n",
       "      <th>count</th>\n",
       "      <td>13397.000000</td>\n",
       "      <td>13397.000000</td>\n",
       "      <td>13397.000000</td>\n",
       "      <td>13397.000000</td>\n",
       "      <td>13397.000000</td>\n",
       "    </tr>\n",
       "    <tr>\n",
       "      <th>mean</th>\n",
       "      <td>17.011644</td>\n",
       "      <td>0.848517</td>\n",
       "      <td>0.014207</td>\n",
       "      <td>0.566123</td>\n",
       "      <td>1.020157</td>\n",
       "    </tr>\n",
       "    <tr>\n",
       "      <th>std</th>\n",
       "      <td>9.830157</td>\n",
       "      <td>0.004242</td>\n",
       "      <td>0.004229</td>\n",
       "      <td>0.005094</td>\n",
       "      <td>0.004470</td>\n",
       "    </tr>\n",
       "    <tr>\n",
       "      <th>min</th>\n",
       "      <td>0.006520</td>\n",
       "      <td>0.826900</td>\n",
       "      <td>-0.002400</td>\n",
       "      <td>0.511900</td>\n",
       "      <td>0.992000</td>\n",
       "    </tr>\n",
       "    <tr>\n",
       "      <th>25%</th>\n",
       "      <td>8.500180</td>\n",
       "      <td>0.845700</td>\n",
       "      <td>0.011400</td>\n",
       "      <td>0.562900</td>\n",
       "      <td>1.017000</td>\n",
       "    </tr>\n",
       "    <tr>\n",
       "      <th>50%</th>\n",
       "      <td>17.013007</td>\n",
       "      <td>0.848500</td>\n",
       "      <td>0.014600</td>\n",
       "      <td>0.566200</td>\n",
       "      <td>1.020000</td>\n",
       "    </tr>\n",
       "    <tr>\n",
       "      <th>75%</th>\n",
       "      <td>25.523445</td>\n",
       "      <td>0.851300</td>\n",
       "      <td>0.017000</td>\n",
       "      <td>0.569400</td>\n",
       "      <td>1.023000</td>\n",
       "    </tr>\n",
       "    <tr>\n",
       "      <th>max</th>\n",
       "      <td>34.036185</td>\n",
       "      <td>0.872700</td>\n",
       "      <td>0.030200</td>\n",
       "      <td>0.597000</td>\n",
       "      <td>1.043000</td>\n",
       "    </tr>\n",
       "  </tbody>\n",
       "</table>\n",
       "</div>"
      ],
      "text/plain": [
       "               time           gFx           gFy           gFz           TgF\n",
       "count  13397.000000  13397.000000  13397.000000  13397.000000  13397.000000\n",
       "mean      17.011644      0.848517      0.014207      0.566123      1.020157\n",
       "std        9.830157      0.004242      0.004229      0.005094      0.004470\n",
       "min        0.006520      0.826900     -0.002400      0.511900      0.992000\n",
       "25%        8.500180      0.845700      0.011400      0.562900      1.017000\n",
       "50%       17.013007      0.848500      0.014600      0.566200      1.020000\n",
       "75%       25.523445      0.851300      0.017000      0.569400      1.023000\n",
       "max       34.036185      0.872700      0.030200      0.597000      1.043000"
      ]
     },
     "execution_count": 11,
     "metadata": {},
     "output_type": "execute_result"
    }
   ],
   "source": [
    "#Calculate the descriptive statistics\n",
    "file.describe()"
   ]
  },
  {
   "cell_type": "code",
   "execution_count": 12,
   "metadata": {},
   "outputs": [
    {
     "data": {
      "image/png": "[encoded data removed]",
      "text/plain": [
       "<Figure size 432x288 with 1 Axes>"
      ]
     },
     "metadata": {
      "needs_background": "light"
     },
     "output_type": "display_data"
    }
   ],
   "source": [
    "#gFx \n",
    "std = np.std(file['gFx'])\n",
    "mean = np.mean(file['gFx'])\n",
    "s = np.random.normal(mean, std,400)\n",
    "plt.hist(file[['gFx']], density = True, bins = 4)\n",
    "plt.axvline(x=mean-1*std,linestyle='dashed', alpha=0.5,color='r')\n",
    "plt.axvline(x=mean+1*std,linestyle='dashed', alpha=0.5,color='r')\n",
    "plt.show()"
   ]
  },
  {
   "cell_type": "code",
   "execution_count": 13,
   "metadata": {},
   "outputs": [
    {
     "data": {
      "image/png": "[encoded data removed]",
      "text/plain": [
       "<Figure size 432x288 with 1 Axes>"
      ]
     },
     "metadata": {
      "needs_background": "light"
     },
     "output_type": "display_data"
    }
   ],
   "source": [
    "#gFy\n",
    "std = np.std(file['gFy'])\n",
    "mean = np.mean(file['gFy'])\n",
    "s = np.random.normal(mean, std,400)\n",
    "plt.hist(file[['gFy']], density = True, bins = 4)\n",
    "plt.axvline(x=mean-1*std,linestyle='dashed', alpha=0.5,color='r')\n",
    "plt.axvline(x=mean+1*std,linestyle='dashed', alpha=0.5,color='r')\n",
    "plt.show()"
   ]
  },
  {
   "cell_type": "code",
   "execution_count": 14,
   "metadata": {},
   "outputs": [
    {
     "data": {
      "image/png": "[encoded data removed]",
      "text/plain": [
       "<Figure size 432x288 with 1 Axes>"
      ]
     },
     "metadata": {
      "needs_background": "light"
     },
     "output_type": "display_data"
    }
   ],
   "source": [
    "#gFz\n",
    "std = np.std(file['gFz'])\n",
    "mean = np.mean(file['gFz'])\n",
    "s = np.random.normal(mean, std,400)\n",
    "plt.hist(file[['gFz']], density = True, bins = 4)\n",
    "plt.axvline(x=mean-1*std,linestyle='dashed', alpha=0.5,color='r')\n",
    "plt.axvline(x=mean+1*std,linestyle='dashed', alpha=0.5,color='r')\n",
    "plt.show()"
   ]
  },
  {
   "cell_type": "code",
   "execution_count": 15,
   "metadata": {},
   "outputs": [
    {
     "data": {
      "text/plain": [
       "time    17.011644\n",
       "gFx      0.848517\n",
       "gFy      0.014207\n",
       "gFz      0.566123\n",
       "TgF      1.020157\n",
       "dtype: float64"
      ]
     },
     "execution_count": 15,
     "metadata": {},
     "output_type": "execute_result"
    }
   ],
   "source": [
    "df = pd.DataFrame(file)\n",
    "df.sample()\n",
    "np.std(df)\n",
    "np.mean(df)"
   ]
  },
  {
   "cell_type": "markdown",
   "metadata": {},
   "source": [
    "**Answers:**\n",
    "\n",
    "a)gFx, gFy, gFz represent for x, y, z asix, respectively. I think we can see the direcion and the orientation of the device from mean values.\n",
    "\n",
    "b)From file.describe(), the standard deviation is 0.004242\t0.004229\t0.005094 for gFx, gFy, and gFz. The gFx, and gFy are almost the same and close to gFz value, so it does not have much differences\n",
    "\n",
    "c)Histograms are look like ripples of model and normal distribution can fit this data\n",
    "\n",
    "d)I can see the data from randomly selected row matches to statistics, so i can say the values are the same for all values after prediction so I would confidently get any sample."
   ]
  },
  {
   "cell_type": "code",
   "execution_count": null,
   "metadata": {},
   "outputs": [],
   "source": []
  },
  {
   "cell_type": "code",
   "execution_count": null,
   "metadata": {},
   "outputs": [],
   "source": []
  },
  {
   "cell_type": "code",
   "execution_count": null,
   "metadata": {},
   "outputs": [],
   "source": []
  }
 ],
 "metadata": {
  "kernelspec": {
   "display_name": "Python 3 (ipykernel)",
   "language": "python",
   "name": "python3"
  },
  "language_info": {
   "codemirror_mode": {
    "name": "ipython",
    "version": 3
   },
   "file_extension": ".py",
   "mimetype": "text/x-python",
   "name": "python",
   "nbconvert_exporter": "python",
   "pygments_lexer": "ipython3",
   "version": "3.9.7"
  }
 },
 "nbformat": 4,
 "nbformat_minor": 4
}
