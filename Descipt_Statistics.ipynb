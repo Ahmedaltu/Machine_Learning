{
 "cells": [
  {
   "cell_type": "markdown",
   "metadata": {},
   "source": [
    "# Assignment 2 - Descriptive statistics\n",
    "Probability and Statistics<br>\n",
    "22.11.2021<br>\n",
    "G01, Ahmed Al-Tuwaijari<br>\n",
    "[Helsinki Metropolia University of Applied Sciences](https://www.metropolia.fi/en/)\n"
   ]
  },
  {
   "cell_type": "code",
   "execution_count": null,
   "metadata": {},
   "outputs": [],
   "source": []
  },
  {
   "cell_type": "code",
   "execution_count": 7,
   "metadata": {},
   "outputs": [
    {
     "name": "stdout",
     "output_type": "stream",
     "text": [
      "Populating the interactive namespace from numpy and matplotlib\n"
     ]
    }
   ],
   "source": [
    "# Import libraries\n",
    "%pylab inline\n",
    "import pandas as pd\n",
    "import seaborn as sns\n",
    "import matplotlib.pyplot as plt"
   ]
  },
  {
   "cell_type": "code",
   "execution_count": 8,
   "metadata": {},
   "outputs": [],
   "source": [
    "# Read the example data\n",
    "file = \"https://archive.ics.uci.edu/ml/machine-learning-databases/heart-disease/processed.cleveland.data\"\n",
    "sep = \",\"\n",
    "data = pd.read_csv(file, sep, header = None)\n",
    "data.columns = ['age', 'sex','chest_pain_type','resting_blood_pressure', 'serum_cholesterol','fasting_blood_sugar', \n",
    "                'resting_ecg','max_heart_rate','exercise_angina','oldpeak','slope_st_segment','number_of_vessels','thal','heart_disease']"
   ]
  },
  {
   "cell_type": "markdown",
   "metadata": {},
   "source": [
    "Information about the data: https://www.kaggle.com/ronitf/heart-disease-uci"
   ]
  },
  {
   "cell_type": "markdown",
   "metadata": {},
   "source": [
    "## Problem 1\n",
    "Using the example data compare the `age` data for men and women. \n",
    "\n",
    "- Calculate the descriptive statistics of age for both groups (men and women).\n",
    "- Plot the age distribution (=histogram) for both groups (men and women). Pay special attention for the bins settings.\n",
    "\n",
    "Compare the distributions and the statistical values between the groups.\n",
    "- How many datapoints there are on each group (men and women)?\n",
    "- What are the highest and lowest values for each group?\n",
    "- How much do the mean values differ between men and women?\n",
    "- Explain on your own words what similarities and differences there are in the age distributions between men and women in this dataset."
   ]
  },
  {
   "cell_type": "code",
   "execution_count": 9,
   "metadata": {},
   "outputs": [
    {
     "data": {
      "text/html": [
       "<div>\n",
       "<style scoped>\n",
       "    .dataframe tbody tr th:only-of-type {\n",
       "        vertical-align: middle;\n",
       "    }\n",
       "\n",
       "    .dataframe tbody tr th {\n",
       "        vertical-align: top;\n",
       "    }\n",
       "\n",
       "    .dataframe thead th {\n",
       "        text-align: right;\n",
       "    }\n",
       "</style>\n",
       "<table border=\"1\" class=\"dataframe\">\n",
       "  <thead>\n",
       "    <tr style=\"text-align: right;\">\n",
       "      <th></th>\n",
       "      <th>count</th>\n",
       "      <th>mean</th>\n",
       "      <th>std</th>\n",
       "      <th>min</th>\n",
       "      <th>25%</th>\n",
       "      <th>50%</th>\n",
       "      <th>75%</th>\n",
       "      <th>max</th>\n",
       "    </tr>\n",
       "    <tr>\n",
       "      <th>sex</th>\n",
       "      <th></th>\n",
       "      <th></th>\n",
       "      <th></th>\n",
       "      <th></th>\n",
       "      <th></th>\n",
       "      <th></th>\n",
       "      <th></th>\n",
       "      <th></th>\n",
       "    </tr>\n",
       "  </thead>\n",
       "  <tbody>\n",
       "    <tr>\n",
       "      <th>0.0</th>\n",
       "      <td>97.0</td>\n",
       "      <td>55.721649</td>\n",
       "      <td>9.370546</td>\n",
       "      <td>34.0</td>\n",
       "      <td>50.0</td>\n",
       "      <td>57.0</td>\n",
       "      <td>63.00</td>\n",
       "      <td>76.0</td>\n",
       "    </tr>\n",
       "    <tr>\n",
       "      <th>1.0</th>\n",
       "      <td>206.0</td>\n",
       "      <td>53.834951</td>\n",
       "      <td>8.836838</td>\n",
       "      <td>29.0</td>\n",
       "      <td>47.0</td>\n",
       "      <td>54.5</td>\n",
       "      <td>59.75</td>\n",
       "      <td>77.0</td>\n",
       "    </tr>\n",
       "  </tbody>\n",
       "</table>\n",
       "</div>"
      ],
      "text/plain": [
       "     count       mean       std   min   25%   50%    75%   max\n",
       "sex                                                           \n",
       "0.0   97.0  55.721649  9.370546  34.0  50.0  57.0  63.00  76.0\n",
       "1.0  206.0  53.834951  8.836838  29.0  47.0  54.5  59.75  77.0"
      ]
     },
     "execution_count": 9,
     "metadata": {},
     "output_type": "execute_result"
    }
   ],
   "source": [
    "# Calculate the descriptive statistics of age for both groups (men and women).\n",
    "groups = data.groupby('sex')\n",
    "groups['age'].describe()"
   ]
  },
  {
   "cell_type": "code",
   "execution_count": 10,
   "metadata": {},
   "outputs": [
    {
     "data": {
      "image/png": "[encoded data removed]",
      "text/plain": [
       "<Figure size 432x288 with 1 Axes>"
      ]
     },
     "metadata": {
      "needs_background": "light"
     },
     "output_type": "display_data"
    }
   ],
   "source": [
    "# Plot the age distribution (=histogram) for both groups (men and women). Pay special attention for the bins settings.\n",
    "\n",
    "data.groupby('sex')['age'].plot.hist(edgecolor='black', alpha = 0.3, bins=8)\n",
    "plt.xlabel('Age')\n",
    "plt.ylabel('Count')\n",
    "plt.legend()\n",
    "plt.grid()\n",
    "plt.show()"
   ]
  },
  {
   "cell_type": "markdown",
   "metadata": {
    "tags": []
   },
   "source": [
    "**Your answers**\n",
    "\n",
    "a) Females: 97\n",
    "   Males: 206\n",
    "\n",
    "b) Females \n",
    "   Lowest: 34\n",
    "   Highest: 76\n",
    "   \n",
    "   Males\n",
    "   Lowest: 29\n",
    "   Highest: 77\n",
    "\n",
    "c) 55.721649 - 53.834951 = 1.886698\n",
    "   The difference between mean values is 3.39 %.\n",
    "\n",
    "d) Males have double data, compared to females. Similarly, that sample was taken with almost the same range of ages in both females and males, and it has a big difference when they are younger. Otherwise, the dataset contains the frequency of male‘s age is higher than female’s age"
   ]
  },
  {
   "cell_type": "markdown",
   "metadata": {},
   "source": [
    "## Problem 2\n",
    "\n",
    "Study the *resting blood pressure* values. Group the data by the *chest pain type*.\n",
    "\n",
    "Coding:\n",
    "- Find out the mean, standard deviation, min, max, and [quartile values](https://en.wikipedia.org/wiki/Quartile) for the *resting blood pressure* for each group.\n",
    "- Create a histogram for the *resting blood pressure* for each group. Pay special attention to the bins settings.\n",
    "- Create a [boxplot](https://pandas.pydata.org/pandas-docs/stable/reference/api/pandas.DataFrame.boxplot.html) for the *resting blood pressure* for each group.\n",
    "\n",
    "Questions:\n",
    "- How many *outliers* are there for the each group?\n",
    "- Which one of the groups have the lowest mean value?\n",
    "- How easy it is to see the differences between the groups in the histograms?\n",
    "- Is histogram or boxplot easier to see the differences between the groups in this case? Explain why in your own words.\n",
    "\n",
    "Tip:\n",
    "- You can use the *resting blood pressure* as `column` and the *chest pain type* as `by` parameter in boxplotting.\n",
    "- You might also need to expand the figure size (see `figsize` parameter in boxplot documentation)."
   ]
  },
  {
   "cell_type": "code",
   "execution_count": 11,
   "metadata": {},
   "outputs": [
    {
     "data": {
      "text/html": [
       "<div>\n",
       "<style scoped>\n",
       "    .dataframe tbody tr th:only-of-type {\n",
       "        vertical-align: middle;\n",
       "    }\n",
       "\n",
       "    .dataframe tbody tr th {\n",
       "        vertical-align: top;\n",
       "    }\n",
       "\n",
       "    .dataframe thead th {\n",
       "        text-align: right;\n",
       "    }\n",
       "</style>\n",
       "<table border=\"1\" class=\"dataframe\">\n",
       "  <thead>\n",
       "    <tr style=\"text-align: right;\">\n",
       "      <th></th>\n",
       "      <th>count</th>\n",
       "      <th>mean</th>\n",
       "      <th>std</th>\n",
       "      <th>min</th>\n",
       "      <th>25%</th>\n",
       "      <th>50%</th>\n",
       "      <th>75%</th>\n",
       "      <th>max</th>\n",
       "    </tr>\n",
       "    <tr>\n",
       "      <th>chest_pain_type</th>\n",
       "      <th></th>\n",
       "      <th></th>\n",
       "      <th></th>\n",
       "      <th></th>\n",
       "      <th></th>\n",
       "      <th></th>\n",
       "      <th></th>\n",
       "      <th></th>\n",
       "    </tr>\n",
       "  </thead>\n",
       "  <tbody>\n",
       "    <tr>\n",
       "      <th>1.0</th>\n",
       "      <td>23.0</td>\n",
       "      <td>140.869565</td>\n",
       "      <td>19.573415</td>\n",
       "      <td>110.0</td>\n",
       "      <td>122.5</td>\n",
       "      <td>140.0</td>\n",
       "      <td>151.0</td>\n",
       "      <td>178.0</td>\n",
       "    </tr>\n",
       "    <tr>\n",
       "      <th>2.0</th>\n",
       "      <td>50.0</td>\n",
       "      <td>128.400000</td>\n",
       "      <td>15.837182</td>\n",
       "      <td>101.0</td>\n",
       "      <td>120.0</td>\n",
       "      <td>128.0</td>\n",
       "      <td>133.5</td>\n",
       "      <td>192.0</td>\n",
       "    </tr>\n",
       "    <tr>\n",
       "      <th>3.0</th>\n",
       "      <td>86.0</td>\n",
       "      <td>130.290698</td>\n",
       "      <td>16.548585</td>\n",
       "      <td>94.0</td>\n",
       "      <td>120.0</td>\n",
       "      <td>130.0</td>\n",
       "      <td>140.0</td>\n",
       "      <td>180.0</td>\n",
       "    </tr>\n",
       "    <tr>\n",
       "      <th>4.0</th>\n",
       "      <td>144.0</td>\n",
       "      <td>132.201389</td>\n",
       "      <td>18.102884</td>\n",
       "      <td>100.0</td>\n",
       "      <td>120.0</td>\n",
       "      <td>130.0</td>\n",
       "      <td>140.0</td>\n",
       "      <td>200.0</td>\n",
       "    </tr>\n",
       "  </tbody>\n",
       "</table>\n",
       "</div>"
      ],
      "text/plain": [
       "                 count        mean        std    min    25%    50%    75%  \\\n",
       "chest_pain_type                                                             \n",
       "1.0               23.0  140.869565  19.573415  110.0  122.5  140.0  151.0   \n",
       "2.0               50.0  128.400000  15.837182  101.0  120.0  128.0  133.5   \n",
       "3.0               86.0  130.290698  16.548585   94.0  120.0  130.0  140.0   \n",
       "4.0              144.0  132.201389  18.102884  100.0  120.0  130.0  140.0   \n",
       "\n",
       "                   max  \n",
       "chest_pain_type         \n",
       "1.0              178.0  \n",
       "2.0              192.0  \n",
       "3.0              180.0  \n",
       "4.0              200.0  "
      ]
     },
     "execution_count": 11,
     "metadata": {},
     "output_type": "execute_result"
    }
   ],
   "source": [
    "# Find out the mean, standard deviation, min, max, and [quartile values](https://en.wikipedia.org/wiki/Quartile) for the *resting blood pressure* for each group.\n",
    "group = data.groupby('chest_pain_type')\n",
    "group[\"resting_blood_pressure\"].describe()"
   ]
  },
  {
   "cell_type": "code",
   "execution_count": 12,
   "metadata": {},
   "outputs": [
    {
     "data": {
      "text/plain": [
       "Text(0, 0.5, 'Frequency')"
      ]
     },
     "execution_count": 12,
     "metadata": {},
     "output_type": "execute_result"
    },
    {
     "data": {
      "image/png": "[encoded data removed]",
      "text/plain": [
       "<Figure size 576x576 with 4 Axes>"
      ]
     },
     "metadata": {
      "needs_background": "light"
     },
     "output_type": "display_data"
    }
   ],
   "source": [
    "#Create a histogram for the *resting blood pressure* for each group. Pay special attention to the bins settings.\n",
    "data[\"resting_blood_pressure\"].hist(by=data.chest_pain_type, grid=True, figsize = (8,8))\n",
    "plt.xlabel(\"Blood pressure\")\n",
    "plt.ylabel(\"Frequency\")"
   ]
  },
  {
   "cell_type": "code",
   "execution_count": 13,
   "metadata": {},
   "outputs": [
    {
     "data": {
      "text/plain": [
       "Text(0.5, 0.98, '')"
      ]
     },
     "execution_count": 13,
     "metadata": {},
     "output_type": "execute_result"
    },
    {
     "data": {
      "image/png": "[encoded data removed]",
      "text/plain": [
       "<Figure size 576x576 with 1 Axes>"
      ]
     },
     "metadata": {
      "needs_background": "light"
     },
     "output_type": "display_data"
    }
   ],
   "source": [
    "#Create a [boxplot](https://pandas.pydata.org/pandas-docs/stable/reference/api/pandas.DataFrame.boxplot.html) for the *resting blood pressure* for each group.\n",
    "data.boxplot(column=['resting_blood_pressure'], by='chest_pain_type', figsize = (8,8))\n",
    "plt.xlabel(\"Pain type\")\n",
    "plt.ylabel(\"Blood pressure\")\n",
    "plt.title(\"Boxplot of blood pressure by pain type\")\n",
    "plt.suptitle('')"
   ]
  },
  {
   "cell_type": "markdown",
   "metadata": {},
   "source": [
    "**Answers**:\n",
    "\n",
    "a) Using the boxplot we can determine that pain type 2 has 4, type 3 has 2, and type 4 has another 4 outliers, all in the high range.\n",
    "\n",
    "b) Type 2 as they have a mean blood pressure of 128.4.\n",
    "\n",
    "c) Fairly well, eg. you can recognise how type 1 is distributed far more unevenly than the rest, how type 1 is the most consistent around 130 etc., which are proven by the standard deviation as well.\n",
    "\n",
    "d) The boxplot is probably more informative in the sense that it more accurately tells you about the quartiles and outliersm it tells you the median etc. "
   ]
  },
  {
   "cell_type": "markdown",
   "metadata": {
    "tags": []
   },
   "source": [
    "## Problem 3\n",
    "Compare the *serum cholesterol* to the *resting blood pressure*.\n",
    "\n",
    "Coding:\n",
    "- Create a scatter-plot where *resting blood pressure* is in the x-axis and *serum cholesterol* in y-axis.\n",
    "- Count how many percentage of the datapoints have *serum cholesterol* higher than 350 mg/ml.\n",
    "- Count how many percentage of the datatpoints have *resting blood pressure* higher than 190 mmHg.\n",
    "\n",
    "Questions:\n",
    "- By studying the graph evaluate if there are any outliers. Explain in your own words which are the outliers and why.\n",
    "- How strongly the *resting blood pressure* and *serum cholesterol* are associated? Explain why in your own words."
   ]
  },
  {
   "cell_type": "code",
   "execution_count": 14,
   "metadata": {},
   "outputs": [
    {
     "data": {
      "text/plain": [
       "<AxesSubplot:xlabel='resting_blood_pressure', ylabel='serum_cholesterol'>"
      ]
     },
     "execution_count": 14,
     "metadata": {},
     "output_type": "execute_result"
    },
    {
     "data": {
      "image/png": "[encoded data removed]",
      "text/plain": [
       "<Figure size 432x288 with 1 Axes>"
      ]
     },
     "metadata": {},
     "output_type": "display_data"
    }
   ],
   "source": [
    "# Create a scatter-plot where resting blood pressure is in the x-axis and the serum cholesterol in y-axis\n",
    "data.plot.scatter(x = 'resting_blood_pressure', y = 'serum_cholesterol')"
   ]
  },
  {
   "cell_type": "code",
   "execution_count": 11,
   "metadata": {},
   "outputs": [
    {
     "data": {
      "text/plain": [
       "2.6402640264026402"
      ]
     },
     "execution_count": 11,
     "metadata": {},
     "output_type": "execute_result"
    }
   ],
   "source": [
    "#Count how many percentage of the datapoints have serum cholesterol higher than 350 mg/ml.\n",
    "amount = (data['serum_cholesterol'] > 350)\n",
    "amount = len(data[amount])\n",
    "total = len(data['serum_cholesterol'])\n",
    "percentage = (amount/total) * 100\n",
    "percentage"
   ]
  },
  {
   "cell_type": "code",
   "execution_count": 12,
   "metadata": {},
   "outputs": [
    {
     "data": {
      "text/plain": [
       "0.6600660066006601"
      ]
     },
     "execution_count": 12,
     "metadata": {},
     "output_type": "execute_result"
    }
   ],
   "source": [
    "#Count how many percentage of the datatpoints have resting blood pressure higher than 190 mmHg.\n",
    "amount = (data['resting_blood_pressure'] > 190)\n",
    "amount = len(data[amount])\n",
    "total = len(data['resting_blood_pressure'])\n",
    "percentage = (amount/total)* 100\n",
    "percentage"
   ]
  },
  {
   "cell_type": "markdown",
   "metadata": {},
   "source": [
    "**Answers**:\n",
    "\n",
    "a)From looking at the graph, the point is over 500 and approximately 115 of serum cholesterol and resting blood pressure is very clear an outlier, respectively. However, it still has other 2 points at the right side of the graph can be considered as outliers, they locate at above 190 of resting blood pressure\n",
    "\n",
    "b)High blood pressure (hypertension) and high cholesterol also are linked. And the data shows it is a bit high, so it has a probability that resting blood sugar and serum cholesterol are associated. "
   ]
  }
 ],
 "metadata": {
  "kernelspec": {
   "display_name": "Python 3 (ipykernel)",
   "language": "python",
   "name": "python3"
  },
  "language_info": {
   "codemirror_mode": {
    "name": "ipython",
    "version": 3
   },
   "file_extension": ".py",
   "mimetype": "text/x-python",
   "name": "python",
   "nbconvert_exporter": "python",
   "pygments_lexer": "ipython3",
   "version": "3.9.7"
  }
 },
 "nbformat": 4,
 "nbformat_minor": 4
}
